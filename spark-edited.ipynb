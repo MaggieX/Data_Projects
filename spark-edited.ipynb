{
 "cells": [
  {
   "cell_type": "code",
   "execution_count": 1,
   "metadata": {},
   "outputs": [],
   "source": [
    "%matplotlib inline\n",
    "import matplotlib\n",
    "import seaborn as sns\n",
    "sns.set()\n",
    "matplotlib.rcParams['figure.dpi'] = 144"
   ]
  },
  {
   "cell_type": "markdown",
   "metadata": {},
   "source": [
    "# Spark Miniproject\n"
   ]
  },
  {
   "cell_type": "markdown",
   "metadata": {},
   "source": [
    "Stack Overflow is a collaboratively edited question-and-answer site originally focused on programming topics. Because of the variety of features tracked, including a variety of feedback metrics, it allows for some open-ended analysis of user behavior on the site.\n",
    "\n",
    "Stack Exchange (the parent organization) provides an anonymized [data dump](https://archive.org/details/stackexchange), and we'll use Spark to perform data manipulation, analysis, and machine learning on this data set. As a side note, there's also an online data explorer which allows you to query the data interactively."
   ]
  },
  {
   "cell_type": "markdown",
   "metadata": {
    "heading_collapsed": true
   },
   "source": [
    "## Accessing the data\n"
   ]
  },
  {
   "cell_type": "markdown",
   "metadata": {
    "hidden": true
   },
   "source": [
    "The data is available on S3 (s3://dataincubator-course/spark-stack-data). There are three sub-folders, `allUsers`, `allPosts`, and `allVotes`, which contain Gzipped XML with the following format:\n",
    "\n",
    "```\n",
    "<row Body=\"&lt;p&gt;I always validate my web pages, and I recommend you do the same BUT many large company websites DO NOT and cannot validate because the importance of the website looking exactly the same on all systems requires rules to be broken. &lt;/p&gt;&#10;&#10;&lt;p&gt;In general, valid websites help your page look good even on odd configurations (like cell phones) so you should always at least try to make it validate.&lt;/p&gt;&#10;\" CommentCount=\"0\" CreationDate=\"2008-10-12T20:26:29.397\" Id=\"195995\" LastActivityDate=\"2008-10-12T20:26:29.397\" OwnerDisplayName=\"Eric Wendelin\" OwnerUserId=\"25066\" ParentId=\"195973\" PostTypeId=\"2\" Score=\"0\" />\n",
    "```\n",
    "\n",
    "Data from the much smaller stats.stackexchange.com is available in the same format on S3 (s3://dataincubator-course/spark-stats-data). This site, Cross-Validated, will be used below in some instances to avoid working with the full data set for every question.\n",
    "\n",
    "The full schema is available as a text file:"
   ]
  },
  {
   "cell_type": "code",
   "execution_count": 3,
   "metadata": {
    "hidden": true
   },
   "outputs": [
    {
     "name": "stdout",
     "output_type": "stream",
     "text": [
      "download: s3://dataincubator-course/spark-stats-data/stack_exchange_schema.txt to ./stack_exchange_schema.txt\r\n"
     ]
    }
   ],
   "source": [
    "!aws s3 cp s3://dataincubator-course/spark-stats-data/stack_exchange_schema.txt ."
   ]
  },
  {
   "cell_type": "markdown",
   "metadata": {
    "hidden": true
   },
   "source": [
    "You can either get the data by running the appropriate S3 commands in the terminal, or by running this block for the smaller stats data set:"
   ]
  },
  {
   "cell_type": "code",
   "execution_count": 4,
   "metadata": {
    "collapsed": true,
    "hidden": true
   },
   "outputs": [],
   "source": [
    "!mkdir -p spark-stats-data\n",
    "!aws s3 sync --exclude '*' --include 'all*' s3://dataincubator-course/spark-stats-data/ ./spark-stats-data\n",
    "!aws s3 sync --exclude '*' --include 'posts*zip' s3://dataincubator-course/spark-stats-data/ ./spark-stats-data"
   ]
  },
  {
   "cell_type": "markdown",
   "metadata": {
    "hidden": true
   },
   "source": [
    "And to get the much larger full data set (be warned, this can take 20 or more minutes, so you may want to run it in the terminal to avoid locking up the notebook):"
   ]
  },
  {
   "cell_type": "code",
   "execution_count": 5,
   "metadata": {
    "collapsed": true,
    "hidden": true
   },
   "outputs": [],
   "source": [
    "!mkdir -p spark-stack-data\n",
    "!aws s3 sync --exclude '*' --include 'all*' s3://dataincubator-course/spark-stack-data/ ./spark-stack-data"
   ]
  },
  {
   "cell_type": "markdown",
   "metadata": {
    "heading_collapsed": true
   },
   "source": [
    "## Data input and parsing\n"
   ]
  },
  {
   "cell_type": "markdown",
   "metadata": {
    "hidden": true
   },
   "source": [
    "Some rows are split across multiple lines; these can be discarded. Incorrectly formatted XML can also be ignored. It is enough to simply skip problematic rows, the loss of data will not significantly impact our results on this large data sets.\n",
    "\n",
    "You will need to handle XML parsing yourself using the `\\` selector in Scala or something like `lxml.etree` in Python. *Warning*: The built-in `xml.etree.ElementTree` behaves differently and the results don't correspond perfectly with the Scala equivalent.\n",
    "\n",
    "To make your code more flexible, it's also recommended to incorporate command-line arguments that specify the location of the input data and where output should be written.\n",
    "\n",
    "The goal should be to have a parsing function that can be applied to the input data to access any XML element desired. It is suggested to use a class structure so that you can create RDDs of Posts, Votes, Users, etc.\n",
    "\n",
    "``` scala\n",
    "// Command line arguments in Scala\n",
    "\n",
    "object Main {\n",
    " def main(args: Array[String]) {\n",
    "   val inputDir = args(0)\n",
    "   val outputDir = args(1)\n",
    "   ...\n",
    "```\n",
    "\n",
    "``` python\n",
    "\n",
    "# Command line arguments using sysv or argparse in Python\n",
    "\n",
    "if __name__ == '__main__':\n",
    "    main(ARGS.input_dir, ARGS.output_dir)\n",
    "```\n",
    "\n",
    "Dates are parsed by default using the Long data type and Unix time (epoch time). In Java/Scala, a given timestamp represents the number of milliseconds since 1970-01-01T00:00:00Z. Also be wary of integer overflow when dealing with Longs. For example, these two are not equal:\n",
    "\n",
    "`val year: Long = 365 * 24 * 60 * 60 * 1000`\n",
    "\n",
    "`val year: Long = 365 * 24 * 60 * 60 * 1000L`"
   ]
  },
  {
   "cell_type": "markdown",
   "metadata": {},
   "source": [
    "## Questions"
   ]
  },
  {
   "cell_type": "markdown",
   "metadata": {},
   "source": [
    "## Bad XML\n"
   ]
  },
  {
   "cell_type": "markdown",
   "metadata": {},
   "source": [
    "A simple question to test your parsing code. Create an RDD of Post objects where each Post is a valid row of XML from the Cross-Validated (stats.stackexchange.com) `allPosts` data set.\n",
    "\n",
    "We are going to take several shortcuts to speed up and simplify our computations.  First, your parsing function to only attempt to parse rows that start with `  <row` as these denote actual data entries. This should be done in Spark as the data is being read in from disk, without any pre-Spark processing. \n",
    "\n",
    "Return the total number XML rows that started with ` <row` that were subsequently **rejected** during your processing.  Note that the text is unicode, and contains non-ASCII characters.  You may need to re-encode to UTF-8 (depending on your XML parser)\n",
    "\n",
    "Note that this cleaned data set will be used for all subsequent questions.\n",
    "\n",
    "*Question*: Can you figure out what filters you need to put in place to avoid throwing parsing errors entirely?"
   ]
  },
  {
   "cell_type": "code",
   "execution_count": 2,
   "metadata": {},
   "outputs": [],
   "source": [
    "from pyspark import SparkContext\n",
    "sc = SparkContext(\"local[*]\", \"temp\")\n",
    "\n",
    "import os, time\n",
    "def localpath(path):\n",
    "    return 'file://' + os.path.join(os.path.abspath(os.path.curdir), path)"
   ]
  },
  {
   "cell_type": "code",
   "execution_count": 3,
   "metadata": {},
   "outputs": [],
   "source": [
    "posts_xml = sc.textFile(localpath('spark-stats-data/allPosts/*'))"
   ]
  },
  {
   "cell_type": "code",
   "execution_count": 4,
   "metadata": {},
   "outputs": [],
   "source": [
    "votes_xml = sc.textFile(localpath('spark-stats-data/allVotes/*'))"
   ]
  },
  {
   "cell_type": "code",
   "execution_count": 5,
   "metadata": {},
   "outputs": [],
   "source": [
    "users_xml = sc.textFile(localpath('spark-stack-data/allUsers/*'))"
   ]
  },
  {
   "cell_type": "code",
   "execution_count": 8,
   "metadata": {
    "collapsed": true
   },
   "outputs": [],
   "source": [
    "from lxml import etree\n",
    "\n",
    "def xmlparser(xmlstring):\n",
    "    try:\n",
    "        root = etree.fromstring(xmlstring.encode('utf-8'), etree.XMLParser(encoding='utf-8'))\n",
    "        return root.attrib\n",
    "    except:\n",
    "        return None"
   ]
  },
  {
   "cell_type": "code",
   "execution_count": null,
   "metadata": {},
   "outputs": [],
   "source": [
    "def isRow(line):\n",
    "    return \"<row\" in line"
   ]
  },
  {
   "cell_type": "code",
   "execution_count": 9,
   "metadata": {
    "collapsed": true
   },
   "outputs": [],
   "source": [
    "class recordPost(object):\n",
    "    def __init__(self, tags, userID, date, typeID, score, views, answers, favorites, answerID):\n",
    "        self.tags = tags\n",
    "        self.userID = userID\n",
    "        self.date = date\n",
    "        self.typeID = typeID\n",
    "        self.score = score\n",
    "        self.views = views\n",
    "        self.answers = answers\n",
    "        self.favorites = favorites\n",
    "        self.answerID = answerID\n",
    "\n",
    "    @classmethod\n",
    "    def parse(cls, line):\n",
    "        attributes = xmlparser(line)\n",
    "        tags = attributes.get('Tags')\n",
    "        userID = attributes.get('OwnerUserId')\n",
    "        date = attributes.get('CreationDate')\n",
    "        typeID = attributes.get('PostTypeId')\n",
    "        score = int(attributes.get('Score', \"0\"))\n",
    "        views = int(attributes.get('ViewCount', \"0\"))\n",
    "        answers = int(attributes.get('AnswerCount', \"0\"))\n",
    "        favorites = int(attributes.get('FavoriteCount', \"0\"))\n",
    "        answerID = attributes.get('AcceptedAnswerId')\n",
    "        return cls(tags, userID, date, typeID, score, views, answers, favorites, answerID)\n",
    "    \n",
    "class recordUser(object):\n",
    "    def __init__(self, ID, date, reputation):\n",
    "        self.ID = ID\n",
    "        self.date = date\n",
    "        self.reputation = reputation\n",
    "\n",
    "    @classmethod\n",
    "    def parse(cls, line):\n",
    "        attributes = xmlparser(line)\n",
    "        ID = attributes.get('Id')\n",
    "        date = attributes.get('CreationDate')\n",
    "        reputation = attributes.get('Reputation')\n",
    "        return cls(ID, date, reputation)\n",
    "    \n",
    "class recordVote(object):\n",
    "    def __init__(self, typeID, postID):\n",
    "        self.typeID = typeID\n",
    "        self.postID = postID\n",
    "\n",
    "    @classmethod\n",
    "    def parse(cls, line):\n",
    "        attributes = xmlparser(line)\n",
    "        typeID = attributes.get('VoteTypeId')\n",
    "        postID = attributes.get('PostId')\n",
    "        return cls(typeID, postID)\n",
    "    \n",
    "class Record(object):\n",
    "    def __init__(self, attributes):\n",
    "        self.attr = attributes\n",
    "\n",
    "    @classmethod\n",
    "    def parse(cls, line):\n",
    "        attributes = xmlparser(line)\n",
    "        return cls(attributes)"
   ]
  },
  {
   "cell_type": "code",
   "execution_count": 45,
   "metadata": {
    "collapsed": true
   },
   "outputs": [],
   "source": [
    "post_record = posts_xml.filter(lambda x: isRow(x)) \\\n",
    "                .filter(lambda x: xmlparser(x) is not None) \\\n",
    "                .map(recordPost.parse)\n",
    "    \n",
    "vote_record = votes_xml.filter(lambda x: isRow(x)) \\\n",
    "                .filter(lambda x: xmlparser(x) is not None) \\\n",
    "                .map(recordPost.parse)\n",
    "    \n",
    "user_record = users_xml.filter(lambda x: isRow(x)) \\\n",
    "                .filter(lambda x: xmlparser(x) is not None) \\\n",
    "                .map(recordPost.parse)"
   ]
  },
  {
   "cell_type": "code",
   "execution_count": 46,
   "metadata": {
    "collapsed": true
   },
   "outputs": [],
   "source": [
    "badXMLcount = post_xml.filter(lambda x: isRow(x)) \\\n",
    "                    .filter(lambda x: xmlparser(x) is None) \\\n",
    "                    .count()"
   ]
  },
  {
   "cell_type": "code",
   "execution_count": 47,
   "metadata": {},
   "outputs": [
    {
     "data": {
      "text/plain": [
       "781"
      ]
     },
     "execution_count": 47,
     "metadata": {},
     "output_type": "execute_result"
    }
   ],
   "source": [
    "badXMLcount"
   ]
  },
  {
   "cell_type": "code",
   "execution_count": 42,
   "metadata": {},
   "outputs": [
    {
     "name": "stdout",
     "output_type": "stream",
     "text": [
      "==================\n",
      "Your score:  1\n",
      "==================\n"
     ]
    }
   ],
   "source": [
    "def bad_xml():\n",
    "    return badXMLcount\n",
    "\n",
    "grader.score(question_name='spark__bad_xml', func=bad_xml)"
   ]
  },
  {
   "cell_type": "markdown",
   "metadata": {
    "heading_collapsed": true
   },
   "source": [
    "## Upvote percentage\n"
   ]
  },
  {
   "cell_type": "markdown",
   "metadata": {
    "hidden": true
   },
   "source": [
    "Each post on Stack Exchange can be upvoted, downvoted, and favorited. One \"sanity check\" we can do is to look at the ratio of upvotes to downvotes (referred to as `UpMod` and `DownMod` in the schema) as a function of how many times the post has been favorited.\n",
    "\n",
    "You might hypothesize, for example, that posts with more favorites should have a higher upvote/downvote ratio.\n",
    "\n",
    "Instead of looking at individual posts, we'll aggregate across number of favorites by using the post's number of favorites as our key. Since we're computing ratios, bundling together all posts with the same number of favorites effectively averages over them.  Calculate the average percentage of upvotes *(upvotes / (upvotes + downvotes))* for the smallest 50 **keys**.\n",
    "\n",
    "Do the analysis on the smaller Cross-Validated data set.\n"
   ]
  },
  {
   "cell_type": "markdown",
   "metadata": {
    "hidden": true
   },
   "source": [
    "#### Checkpoints"
   ]
  },
  {
   "cell_type": "markdown",
   "metadata": {
    "hidden": true
   },
   "source": [
    "* Total upvotes: 313,819\n",
    "* Total downvotes: 13,019\n",
    "* Mean of first 50 keys (averaging the keys themselves): 24.76"
   ]
  },
  {
   "cell_type": "code",
   "execution_count": 54,
   "metadata": {
    "collapsed": true,
    "hidden": true
   },
   "outputs": [],
   "source": [
    "def voteMap(val):\n",
    "    # 2 = Upvote, 3 = Downvote, 5 = Favorite\n",
    "    # (Upvote, Downvote, Favorite)\n",
    "    vote_dict = {'2':(1,0,0), '3':(0,1,0), '5':(0,0,1)}\n",
    "    return vote_dict.get(val)"
   ]
  },
  {
   "cell_type": "code",
   "execution_count": 71,
   "metadata": {
    "collapsed": true,
    "hidden": true
   },
   "outputs": [],
   "source": [
    "vote_bins = ['2','3','5']\n",
    "\n",
    "def tupleAdd(x, y):\n",
    "    return (x[0] + y[0], x[1] + y[1])\n",
    "\n",
    "def thrupleAdd(x, y):\n",
    "    return (x[0] + y[0], x[1] + y[1], x[2] + y[2])\n",
    "\n",
    "def last2Key(x):\n",
    "    return (x[2], (x[0], x[1]))\n",
    "\n",
    "def calcFraction(x):\n",
    "    return (float(x[0]) / (x[0] + x[1]))\n",
    "\n",
    "def calcRatio(x):\n",
    "    return (float(x[0])/ x[1])\n",
    "\n",
    "upvote_ratio = vote_record.filter(lambda x: x.typeID in vote_bins) \\\n",
    "                .map(lambda x: (x.postID, vote_map(x.typeID)) \\ # (postID, (Upvotes, Downvotes, Favorites))\n",
    "                .reduceByKey(lambda x, y: thrupleAdd(x, y)) \\ \n",
    "                .map(lambda x: last2Key(x[1])) \\ # (Favorites, (Upvotes, Downvotes))\n",
    "                .reduceByKey(lambda x, y: tupleAdd(x, y)) \\\n",
    "                .sortByKey() \\\n",
    "                .mapValues(lambda x: calcFraction(x)) \\ # (Favorites, Upvote Ratios)\n",
    "                .take(50) \\"
   ]
  },
  {
   "cell_type": "code",
   "execution_count": 74,
   "metadata": {
    "hidden": true
   },
   "outputs": [
    {
     "name": "stdout",
     "output_type": "stream",
     "text": [
      "==================\n",
      "Your score:  1.0\n",
      "==================\n"
     ]
    }
   ],
   "source": [
    "def upvote_percentage():\n",
    "    return upvote_ratio #return [(20, 0.9952153110047847)] * 50\n",
    "grader.score(question_name='spark__upvote_percentage', func=upvote_percentage)"
   ]
  },
  {
   "cell_type": "markdown",
   "metadata": {
    "heading_collapsed": true
   },
   "source": [
    "## Answer percentage\n"
   ]
  },
  {
   "cell_type": "markdown",
   "metadata": {
    "hidden": true
   },
   "source": [
    "Investigate the correlation between a user's reputation and the kind of posts they make. For the 99 users with the highest reputation, single out posts which are either questions or answers and look at the percentage of these posts that are answers: *(answers / (answers + questions))*. \n",
    "\n",
    "Return a tuple of their **user ID** and this fraction.\n",
    "\n",
    "You should also return (-1, fraction) to represent the case where you average over all users (so you will return 100 entries total).\n",
    "\n",
    "Again, you only need to run this on the statistics overflow set.\n"
   ]
  },
  {
   "cell_type": "markdown",
   "metadata": {
    "hidden": true
   },
   "source": [
    "#### Checkpoints"
   ]
  },
  {
   "cell_type": "markdown",
   "metadata": {
    "hidden": true
   },
   "source": [
    "* Total questions: 52,060\n",
    "* Total answers: 55,304\n",
    "* Top 99 users' average reputation: 11893.464646464647"
   ]
  },
  {
   "cell_type": "code",
   "execution_count": 318,
   "metadata": {
    "collapsed": true,
    "hidden": true
   },
   "outputs": [],
   "source": [
    "possible_ids = [\"1\",\"2\"]\n",
    "# 1 = Question, 2 = Answer: \n",
    "# (Answer, Question)\n",
    "ptype_map = {\"2\":(1,0), \"1\":(0,1)}\n",
    "\n",
    "ptype_BV = sc.broadcast(ptype_map)"
   ]
  },
  {
   "cell_type": "code",
   "execution_count": 317,
   "metadata": {
    "collapsed": true,
    "hidden": true
   },
   "outputs": [],
   "source": [
    "users_reputations = user_record.map(lambda x: (x.ID, x.reputation)) \\\n",
    "                    .filter(lambda x: x[0] and x[1])"
   ]
  },
  {
   "cell_type": "code",
   "execution_count": 328,
   "metadata": {
    "collapsed": true,
    "hidden": true
   },
   "outputs": [],
   "source": [
    "users_answers_ratios = post_record.filter(lambda x: x.userID and x.typeID in possible_ids) \\\n",
    "                        .map(lambda x:(x.userID, ptype_BV.value[x.typeID])) \\ # (userID, (Answers, Questiosn))\n",
    "                        .reduceByKey(lambda x, y: tupleAdd(x, y))) \\\n",
    "                        .mapValues(lambda x: calcFraction(x))) \\ # (userID, Answer Ratio)\n",
    "            \n",
    "users_ratio_reps = users_answers_ratios.join(users_reputations) \\ # (userID, (Answer Ratio, User Reputation))\n",
    "                        .map(lambda (userID, (ratio, rep)): (int(rep), (int(userID),ratio))) \\ # (Reputation, (userID, Answer Ratio))"
   ]
  },
  {
   "cell_type": "code",
   "execution_count": 329,
   "metadata": {
    "hidden": true
   },
   "outputs": [],
   "source": [
    "def values2KeyVal(x):\n",
    "    return (x[1][0],x[1][1])\n",
    "\n",
    "top99_ratio = users_ratios_reps.sortByKey(ascending=False) \\ #(Reputation, (userID, Answer Ratio))\n",
    "                .map(lambda x: values2KeyVal(x)) \\ #(userID, Answer Ratio)\n",
    "                .take(99)\n",
    "        \n",
    "avg_ratio = users_ratios_reps.map(lambda x: x[1][1]).mean()\n",
    "answer_ratio_full = top99 + [(-1, avg)]"
   ]
  },
  {
   "cell_type": "code",
   "execution_count": 330,
   "metadata": {
    "hidden": true
   },
   "outputs": [
    {
     "name": "stdout",
     "output_type": "stream",
     "text": [
      "==================\n",
      "Your score:  0.99\n",
      "==================\n"
     ]
    }
   ],
   "source": [
    "def answer_percentage():\n",
    "    return answer_ratio_full #return [(7071, 0.9107142857142857)] * 100\n",
    "\n",
    "grader.score(question_name='spark__answer_percentage', func=answer_percentage)"
   ]
  },
  {
   "cell_type": "markdown",
   "metadata": {
    "heading_collapsed": true
   },
   "source": [
    "## Post counts\n"
   ]
  },
  {
   "cell_type": "markdown",
   "metadata": {
    "hidden": true
   },
   "source": [
    "If we use the total number of posts made on the site as a metric for tenure, we can look at the differences between \"younger\" and \"older\" users. You can imagine there might be many interesting features - for now just return the top 100 post counts among all users (of all types of posts) and the average reputation for every user who has that count.\n",
    "\n",
    "In other words, aggregate the cases where multiple users have the same post count.\n"
   ]
  },
  {
   "cell_type": "markdown",
   "metadata": {
    "hidden": true
   },
   "source": [
    "#### Checkpoints"
   ]
  },
  {
   "cell_type": "markdown",
   "metadata": {
    "hidden": true
   },
   "source": [
    "* Mean of top 100 post counts: 281.51"
   ]
  },
  {
   "cell_type": "code",
   "execution_count": 159,
   "metadata": {
    "collapsed": true,
    "hidden": true
   },
   "outputs": [],
   "source": [
    "users_pcount = post_record.filter(lambda x: x.userID is not None) \\\n",
    "                .map(lambda x: (x.userID, 1)) \\ # (userID, 1)\n",
    "                .reduceByKey(lambda x, y: x + y) \\ # (userID, post count)\n",
    "    \n",
    "post_count_reps = users_pcount.join(users_reputations) \\\n",
    "                .map(lambda (userID, (count, rep)): (int(count), (int(rep), 1))) \\ # (post count, rep, pcount count)\n",
    "                .reduceByKey(lambda x, y: tupleAdd(x, y)) \\\n",
    "                .mapValues(lambda x: calcRatio(x)) \\ # (post count, avg reputation)\n",
    "                .sortByKey(ascending=False) \\\n",
    "                .take(100)"
   ]
  },
  {
   "cell_type": "code",
   "execution_count": 163,
   "metadata": {
    "hidden": true
   },
   "outputs": [
    {
     "name": "stdout",
     "output_type": "stream",
     "text": [
      "==================\n",
      "Your score:  1.0\n",
      "==================\n"
     ]
    }
   ],
   "source": [
    "def post_counts():\n",
    "    return post_count_reps     #return [(118, 3736.5)] * 100\n",
    "\n",
    "grader.score(question_name='spark__post_counts', func=post_counts)"
   ]
  },
  {
   "cell_type": "markdown",
   "metadata": {},
   "source": [
    "## Quick answers\n"
   ]
  },
  {
   "cell_type": "markdown",
   "metadata": {},
   "source": [
    "How long do you have to wait to get your question answered? Look at the set of ACCEPTED answers which are posted less than three hours after question creation. What is the average number of these \"quick answers\" as a function of the hour of day the question was asked? You should normalize by how many total accepted answers are garnered by questions posted in a given hour, just like we're counting how many quick accepted answers are garnered by questions posted in a given hour, eg. (quick accepted answers when question hour is 15 / total accepted answers when question hour is 15).\n",
    "\n",
    "Return a list, whose *i*th element correspond to *i*th hour (e.g. 0 -> midnight, 1 -> 1:00, etc.)\n",
    "\n",
    "*Note*: When using the `SimpleDateFormat` class in Scala, it's important to account for your machine's local time zone. Our policy will be to use GMT: `hourFormat.setTimeZone(TimeZone.getTimeZone(\"GMT\"))`\n",
    "\n",
    "*Consider*: What biases are present in our result that we don't account for? How should we handle this?\n"
   ]
  },
  {
   "cell_type": "markdown",
   "metadata": {},
   "source": [
    "#### Checkpoints"
   ]
  },
  {
   "cell_type": "markdown",
   "metadata": {},
   "source": [
    "* Total quick accepted answers: 8,468\n",
    "* Total accepted answers: 17,096"
   ]
  },
  {
   "cell_type": "code",
   "execution_count": 6,
   "metadata": {
    "collapsed": true
   },
   "outputs": [],
   "source": [
    "import datetime\n",
    "from dateutil import parser"
   ]
  },
  {
   "cell_type": "code",
   "execution_count": 168,
   "metadata": {
    "collapsed": true
   },
   "outputs": [],
   "source": [
    "questions_date = post_record.filter(lambda x: x.answerId and x.date and x.typeID == \"1\") \\\n",
    "                    .map(lambda x:(x.answerID, parser.parse(x.date))) \\"
   ]
  },
  {
   "cell_type": "code",
   "execution_count": 170,
   "metadata": {
    "collapsed": true
   },
   "outputs": [],
   "source": [
    "accepted_date = post_record.filter(lambda x: x.ID and x.date and x.typeID == \"2\") \\\n",
    "                    .map(lambda x:(x.ID, parser.parse(x.date)))"
   ]
  },
  {
   "cell_type": "code",
   "execution_count": 182,
   "metadata": {
    "collapsed": true
   },
   "outputs": [],
   "source": [
    "three_hours = 3*60*60\n",
    "\n",
    "def isLessThanTime(start, end, time):\n",
    "    return int((end - start).total_seconds() < time)\n",
    "\n",
    "quick_ans = questions_date.join(accepted_date) \\\n",
    "            .map(lambda (_, (q_date, ans_date)): (q_date.hour, (isLessThanTime(q_date,ans_date,three_hours), 1))) \\\n",
    "            .reduceByKey(lambda x, y: tupleAdd(x, y)) \\\n",
    "            .sortByKey() \\\n",
    "            .map(lambda x: calcRatio(x[1]))  \\\n",
    "            .collect()"
   ]
  },
  {
   "cell_type": "code",
   "execution_count": 184,
   "metadata": {},
   "outputs": [
    {
     "name": "stdout",
     "output_type": "stream",
     "text": [
      "==================\n",
      "Your score:  1.0\n",
      "==================\n"
     ]
    }
   ],
   "source": [
    "def quick_answers():\n",
    "    return quick_ans     #return [0.] * 24\n",
    "\n",
    "grader.score(question_name='spark__quick_answers', func=quick_answers)"
   ]
  },
  {
   "cell_type": "markdown",
   "metadata": {},
   "source": [
    "## Identify veterans\n"
   ]
  },
  {
   "cell_type": "markdown",
   "metadata": {},
   "source": [
    "It can be interesting to think about what factors influence a user to remain active on the site over a long period of time. In order not to bias the results towards older users, we'll define a time window between 100 and 150 days after account creation. If the user has made a post in this time, we'll consider them active and well on their way to being veterans of the site; if not, they are inactive and were likely brief users.\n",
    "\n",
    "*Consider*: What other parameterizations of \"activity\" could we use, and how would they differ in terms of splitting our user base?\n",
    "\n",
    "*Consider*: What other biases are still not dealt with, after using the above approach?\n",
    "\n",
    "Let's see if there are differences between the first ever question posts of \"veterans\" vs. \"brief users\". For each group separately, average the score, views, number of answers, and number of favorites of the users' **first question**.\n",
    "\n",
    "*Consider*: What story could you tell from these numbers? How do the numbers support it?\n"
   ]
  },
  {
   "cell_type": "markdown",
   "metadata": {},
   "source": [
    "#### Checkpoints"
   ]
  },
  {
   "cell_type": "markdown",
   "metadata": {},
   "source": [
    "* Total brief users: 24,864\n",
    "* Total veteran users: 2,027"
   ]
  },
  {
   "cell_type": "code",
   "execution_count": 247,
   "metadata": {
    "collapsed": true
   },
   "outputs": [],
   "source": [
    "all_post_stats = post_record.filter(lambda x: x.userID and x.date) \\\n",
    "                .map(lambda x: (x.userID, \\\n",
    "                (parser.parse(x.date), x.score, x.views, x.answers, x.favorites))) \\"
   ]
  },
  {
   "cell_type": "code",
   "execution_count": 226,
   "metadata": {
    "collapsed": true
   },
   "outputs": [],
   "source": [
    "seconds_100d  = 100*24*60*60\n",
    "seconds_150d = 150*24*60*60\n",
    "\n",
    "def isBetweenTimes(start, end, t_short, t_long):\n",
    "    dt = (end - start).total_seconds()\n",
    "    return int(dt <= t_long and t_short <= dt)\n",
    "\n",
    "vet_users_bool = user_record.map(lambda x: (x.ID, parser.parse(x.date))) \\\n",
    "    .filter(lambda x: x[0] and x[1]) \\ # (userID, userDate)\n",
    "    .join(all_post_data) \\ # (userID, (userDate, postDate, score, views, answers, favorites))\n",
    "    .mapValues(lambda (userDate, postInfo): isBetweenTimes(userDate, postInfo[0], seconds_100d, seconds_150d)) # (userID, post date status)\n",
    "    .reduceByKey(lambda x, y: x or y) # (userID, veteran status)"
   ]
  },
  {
   "cell_type": "code",
   "execution_count": 240,
   "metadata": {
    "collapsed": true
   },
   "outputs": [],
   "source": [
    "first_q_date = post_record.filter(lambda x: x.userID and x.date and x.postID == \"1\") \\\n",
    "    .map(lambda x: (x.userID, parser.parse(x.date))) \\ # (userID, postDate)\n",
    "    .reduceByKey(lambda x, y : min(x, y)) \\ # (userID, first question date)\n",
    "    .map(lambda (userID, postdate): ((userID, postdate), None)) # ((userID, first question date), _)"
   ]
  },
  {
   "cell_type": "code",
   "execution_count": 252,
   "metadata": {
    "collapsed": true
   },
   "outputs": [],
   "source": [
    "post_stats_transform = all_post_stats.map(\n",
    "    lambda (userID, stats): ((userID, stats[0]), stats[1:])) \\ #((userID, postDate), (score,views,answers,favs))\n",
    "\n",
    "first_q_stats = first_q_date.join(post_stats_transform) \\ #((userID, first question Date), (None, stats))\n",
    "    .map(lambda ((userID, first_q_date), first_q_stats): (userID, first_q_stats[1])) # (userID, stats)"
   ]
  },
  {
   "cell_type": "code",
   "execution_count": 278,
   "metadata": {
    "collapsed": true
   },
   "outputs": [],
   "source": [
    "def addQuintuple(x, y):\n",
    "    return (x[0] + y[0], x[1] + [1], x[2] + y[2], x[3] + y[3], x[4] + y[4])\n",
    "\n",
    "def computeAvgs(x):\n",
    "    avgs = (float(x[0]) / x[4], float(x[1]) / x[4], float(x[2]) / x[4], float(x[3]) / x[4])\n",
    "    return avgs\n",
    "\n",
    "avg_agg_stats = vet_users_bool.join(first_q_stats) \\ # (userID, (vet stats, first question stats))\n",
    "    .map(lambda (_, (vet_status, first_q_stats)): (vet_status, (first_q_stats, 1))) \\ # (vet status, (q stats, 1))\n",
    "    .mapValues(lambda ((score, views, ans, favs), counter): (score, views, ans, favs, counter)) \\\n",
    "    .reduceByKey(lambda x, y: (addQuintuple(x, y))) \\ # (vet status, (score, views, ans, favs, total count))\n",
    "    .mapValues(lambda x: computeAvgs (x)) \\ # (veteran status, (avg stats))\n",
    "    .collect()"
   ]
  },
  {
   "cell_type": "code",
   "execution_count": 303,
   "metadata": {},
   "outputs": [],
   "source": [
    "keys = [\"vet_score\",\"vet_views\",\"vet_answers\",\"vet_favorites\",\n",
    "        \"brief_score\",\"brief_views\",\"brief_answers\",\"brief_favorites\"\n",
    "        ]"
   ]
  },
  {
   "cell_type": "code",
   "execution_count": 304,
   "metadata": {
    "scrolled": true
   },
   "outputs": [
    {
     "data": {
      "text/plain": [
       "{'brief_answers': 0.9705827067669173,\n",
       " 'brief_favorites': 0.5757988721804511,\n",
       " 'brief_score': 2.100892857142857,\n",
       " 'brief_views': 553.4432330827068,\n",
       " 'vet_answers': 1.2974161627267728,\n",
       " 'vet_favorites': 1.3001649257833974,\n",
       " 'vet_score': 3.54370533260033,\n",
       " 'vet_views': 925.8889499725124}"
      ]
     },
     "execution_count": 304,
     "metadata": {},
     "output_type": "execute_result"
    }
   ],
   "source": [
    "values = [el for k, v in sorted(avg_agg_stats, reverse = True) for el in v]\n",
    "vet_ans_dict = dict(zip(keys, values))\n",
    "vet_ans_dict"
   ]
  },
  {
   "cell_type": "code",
   "execution_count": 305,
   "metadata": {},
   "outputs": [
    {
     "name": "stdout",
     "output_type": "stream",
     "text": [
      "==================\n",
      "Your score:  1.0\n",
      "==================\n"
     ]
    }
   ],
   "source": [
    "def identify_veterans():\n",
    "    #return {\"vet_score\": 0,\n",
    "    #        \"vet_views\": 0,\n",
    "    #        \"vet_answers\": 0,\n",
    "    #        \"vet_favorites\": 0,\n",
    "    #        \"brief_score\": 0,\n",
    "    #        \"brief_views\": 0,\n",
    "    #        \"brief_answers\": 0,\n",
    "    #        \"brief_favorites\": 0\n",
    "    #       }\n",
    "    return v_ans_dict\n",
    "grader.score(question_name='spark__identify_veterans', func=identify_veterans)"
   ]
  },
  {
   "cell_type": "markdown",
   "metadata": {
    "heading_collapsed": true
   },
   "source": [
    "## Word2vec\n"
   ]
  },
  {
   "cell_type": "markdown",
   "metadata": {
    "hidden": true
   },
   "source": [
    "Word2Vec is an alternative approach for vectorizing text data. The vectorized representations of words in the vocabulary tend to be useful for predicting other words in the document, hence the famous example \"vector('king') - vector('man') + vector('woman') ~= vector('queen')\".\n",
    "\n",
    "Let's see how good a Word2Vec model we can train using the tags of each Stack Exchange post as documents (this uses the full data set). Use the implementation of Word2Vec from Spark ML (this will require using DataFrames) to return a list of the top 25 closest synonyms to \"ggplot2\" and their similarity score in tuple format (\"string\", number).\n"
   ]
  },
  {
   "cell_type": "markdown",
   "metadata": {
    "hidden": true
   },
   "source": [
    "#### Parameters\n"
   ]
  },
  {
   "cell_type": "markdown",
   "metadata": {
    "hidden": true
   },
   "source": [
    "The dimensionality of the vector space should be 100. The random seed should be 42L.\n"
   ]
  },
  {
   "cell_type": "markdown",
   "metadata": {
    "hidden": true
   },
   "source": [
    "#### Checkpoints"
   ]
  },
  {
   "cell_type": "markdown",
   "metadata": {
    "hidden": true
   },
   "source": [
    "* Mean of the top 25 cosine similarities: 0.7785175901170094"
   ]
  },
  {
   "cell_type": "code",
   "execution_count": 9,
   "metadata": {
    "collapsed": true,
    "hidden": true
   },
   "outputs": [],
   "source": [
    "from pyspark.ml.feature import Word2Vec\n",
    "from pyspark.sql import SQLContext\n",
    "sqlContext = SQLContext(sc)\n",
    "\n",
    "tags_df = sc.textFile(localpath('spark-stack-data/allPosts/*')) \\\n",
    "    .filter(lambda x: isRow(x)) \\\n",
    "    .map(Record.parse) \\\n",
    "    .filter(lambda x: x.attr is not None and x.attr.get('Tags')) \\\n",
    "    .map(lambda x: (x.attr['Tags'].strip('<>').split('><'), 1)) \\\n",
    "    .toDF(['tag', 'score'])"
   ]
  },
  {
   "cell_type": "code",
   "execution_count": 351,
   "metadata": {
    "hidden": true
   },
   "outputs": [],
   "source": [
    "VECTOR_SIZE = 100\n",
    "SEED = 42L\n",
    "TOP_N = 25\n",
    "\n",
    "w2v = Word2Vec(vectorSize = VECTOR_SIZE, seed = SEED, inputCol= \"tag\", outputCol= \"vectors\")\n",
    "model = w2v.fit(tags_df)"
   ]
  },
  {
   "cell_type": "code",
   "execution_count": 356,
   "metadata": {
    "hidden": true
   },
   "outputs": [],
   "source": [
    "synonyms = model.findSynonyms('ggplot2', TOP_N).rdd.collect\n",
    "syn_list = [(k,v) for (k,v) in synonyms]"
   ]
  },
  {
   "cell_type": "code",
   "execution_count": 357,
   "metadata": {
    "hidden": true
   },
   "outputs": [
    {
     "name": "stdout",
     "output_type": "stream",
     "text": [
      "==================\n",
      "Your score:  0.96\n",
      "==================\n"
     ]
    }
   ],
   "source": [
    "def word2vec():\n",
    "    return syn_list #return [(\"data.frame\", 0.7900882217638416)] * 25\n",
    "\n",
    "grader.score(question_name='spark__word2vec', func=word2vec)"
   ]
  },
  {
   "cell_type": "markdown",
   "metadata": {
    "heading_collapsed": true
   },
   "source": [
    "## Classification\n"
   ]
  },
  {
   "cell_type": "markdown",
   "metadata": {
    "hidden": true
   },
   "source": [
    "We'd like to see if we can predict the tags of a question from its body text. Technically this is a multi-label classification problem, but to simplify things we'll use a one-vs-all approach where we choose the top k most common tags and train k binary classifiers where the labels indicate the presence or absence of that tag.\n",
    "\n",
    "Use a logistic regression model as your classifier.\n",
    "\n",
    "Since we can't reliably save and load models, return a list of 100 tuples (\"string\", [number, number, number,...]) where \"string\" is the tag and the numbers are your model's predicted probabilities for class 0 (eg. 0.2 means a prediction that the tag is present) across the test set.\n",
    "\n",
    "Note that this will require some digging into the result DataFrame to extract.\n",
    "The length of these probability lists is equal to the length of the test set: 4649.\n"
   ]
  },
  {
   "cell_type": "markdown",
   "metadata": {
    "hidden": true
   },
   "source": [
    "#### Parameters\n"
   ]
  },
  {
   "cell_type": "markdown",
   "metadata": {
    "hidden": true
   },
   "source": [
    "* The training and tests sets were downloaded with the stats data at the beginning of the notebook.  You can also get them from S3:\n",
    "  * s3://dataincubator-course/spark-stats-data/posts_train.zip\n",
    "  * s3://dataincubator-course/spark-stats-data/posts_test.zip\n",
    "* Tokenize the body text into words\n",
    "* number of tags to consider k = 100"
   ]
  },
  {
   "cell_type": "code",
   "execution_count": 26,
   "metadata": {
    "collapsed": true,
    "hidden": true
   },
   "outputs": [],
   "source": [
    "from pyspark.ml.feature import Word2Vec\n",
    "from pyspark.sql import SQLContext\n",
    "sqlContext = SQLContext(sc)"
   ]
  },
  {
   "cell_type": "code",
   "execution_count": 10,
   "metadata": {
    "hidden": true
   },
   "outputs": [],
   "source": [
    "tags_100 = sc.textFile(localpath('spark-stats-data/allPosts/*')) \\\n",
    "    .filter(lambda x: isRow(x)) \\\n",
    "    .map(Record.parse) \\\n",
    "    .filter(lambda x: x.attr is not None and x.attr.get('Tags')) \\\n",
    "    .flatMap(lambda x: (x.attr['Tags'].strip('<>').split('><'))) \\\n",
    "    .map(lambda x: (x, 1)) \\\n",
    "    .reduceByKey(lambda x, y: x + y) \\\n",
    "    .map(lambda x: (x[1], x[0])) \\\n",
    "    .sortByKey(ascending = False) \\\n",
    "    .take(100)"
   ]
  },
  {
   "cell_type": "code",
   "execution_count": 11,
   "metadata": {
    "hidden": true
   },
   "outputs": [],
   "source": [
    "tags_100_words = [v for k,v in tags_100]\n",
    "topwords_BV = sc.broadcast(tags_100_words)"
   ]
  },
  {
   "cell_type": "code",
   "execution_count": 61,
   "metadata": {
    "collapsed": true,
    "hidden": true
   },
   "outputs": [],
   "source": [
    "from pyspark.ml.classification import LogisticRegression\n",
    "from pyspark.ml.feature import HashingTF, Tokenizer"
   ]
  },
  {
   "cell_type": "code",
   "execution_count": 13,
   "metadata": {
    "collapsed": true,
    "hidden": true
   },
   "outputs": [],
   "source": [
    "import mwparserfromhell as mwp\n",
    "\n",
    "def bodyParser(body):\n",
    "    try:\n",
    "        return mwp.parse(body).strip_code().replace('\\n',' ')\n",
    "    except:\n",
    "        return ''"
   ]
  },
  {
   "cell_type": "code",
   "execution_count": 106,
   "metadata": {
    "hidden": true
   },
   "outputs": [],
   "source": [
    "train = sc.textFile(localpath('posts_train/*')) \\\n",
    "    .filter(lambda x: isRow(x)) \\\n",
    "    .map(Record.parse) \\\n",
    "    .filter(lambda x: x.attr is not None and x.attr.get('Tags') and x.attr.get('Body')) \\\n",
    "    .map(lambda x: (bodyParser(x.attr['Body']), x.attr['Tags'].strip('<>').split('><'))) \\\n",
    "    .filter(lambda x: x[0]) \\\n",
    "    .mapValues(lambda x: [int(word in x) for word in topwords_BV.value])\\\n",
    "    .map(lambda x: [x[0]] + x[1])"
   ]
  },
  {
   "cell_type": "code",
   "execution_count": 107,
   "metadata": {
    "hidden": true
   },
   "outputs": [],
   "source": [
    "test = sc.textFile(localpath('posts_test/*')) \\\n",
    "    .filter(lambda x: isRow(x)) \\\n",
    "    .map(Record.parse) \\\n",
    "    .filter(lambda x: x.attr is not None and x.attr.get('Tags') and x.attr.get('Body')) \\\n",
    "    .map(lambda x: (bodyParser(x.attr['Body']), x.attr['Tags'].strip('<>').split('><'))) \\\n",
    "    .filter(lambda x: x[0]) \\\n",
    "    .mapValues(lambda x: [int(word in x) for word in topwords_BV.value]) \\\n",
    "    .map(lambda x: [x[0]] + x[1])"
   ]
  },
  {
   "cell_type": "code",
   "execution_count": 108,
   "metadata": {
    "hidden": true
   },
   "outputs": [],
   "source": [
    "from pyspark.ml.feature import Word2Vec\n",
    "from pyspark.sql import SQLContext\n",
    "sqlContext = SQLContext(sc)\n",
    "\n",
    "training = sqlContext.createDataFrame(train, [\"text\"] + tags_100_words).cache()\n",
    "testing = sqlContext.createDataFrame(test, [\"text\"] + tags_100_words)"
   ]
  },
  {
   "cell_type": "code",
   "execution_count": 109,
   "metadata": {
    "collapsed": true,
    "hidden": true
   },
   "outputs": [],
   "source": [
    "from pyspark.ml.feature import VectorAssembler\n",
    "from pyspark.ml.feature import VectorSlicer"
   ]
  },
  {
   "cell_type": "code",
   "execution_count": 110,
   "metadata": {
    "hidden": true
   },
   "outputs": [],
   "source": [
    "tokenizer = Tokenizer(inputCol=\"text\", outputCol=\"words\")\n",
    "hashingTF = HashingTF(inputCol=tokenizer.getOutputCol(), outputCol=\"features\")\n",
    "\n",
    "tokens = tokenizer.transform(training)\n",
    "hashes = hashingTF.transform(tokens)\n",
    "\n",
    "test_tokens = tokenizer.transform(testing)\n",
    "test_hashes = hashingTF.transform(test_tokens)"
   ]
  },
  {
   "cell_type": "code",
   "execution_count": 112,
   "metadata": {
    "hidden": true,
    "scrolled": true
   },
   "outputs": [
    {
     "name": "stdout",
     "output_type": "stream",
     "text": [
      "(0, 'r')\n",
      "(1, 'regression')\n",
      "(2, 'time-series')\n",
      "(3, 'machine-learning')\n",
      "(4, 'probability')\n",
      "(5, 'hypothesis-testing')\n",
      "(6, 'distributions')\n",
      "(7, 'self-study')\n",
      "(8, 'logistic')\n",
      "(9, 'correlation')\n",
      "(10, 'classification')\n",
      "(11, 'statistical-significance')\n",
      "(12, 'bayesian')\n",
      "(13, 'anova')\n",
      "(14, 'normal-distribution')\n",
      "(15, 'clustering')\n",
      "(16, 'mathematical-statistics')\n",
      "(17, 'confidence-interval')\n",
      "(18, 'data-visualization')\n",
      "(19, 'multiple-regression')\n",
      "(20, 'estimation')\n",
      "(21, 'categorical-data')\n",
      "(22, 'mixed-model')\n",
      "(23, 'generalized-linear-model')\n",
      "(24, 'spss')\n",
      "(25, 'variance')\n",
      "(26, 'repeated-measures')\n",
      "(27, 'sampling')\n",
      "(28, 't-test')\n",
      "(29, 'pca')\n",
      "(30, 'svm')\n",
      "(31, 'forecasting')\n",
      "(32, 'multivariate-analysis')\n",
      "(33, 'chi-squared')\n",
      "(34, 'cross-validation')\n",
      "(35, 'maximum-likelihood')\n",
      "(36, 'data-mining')\n",
      "(37, 'modeling')\n",
      "(38, 'neural-networks')\n",
      "(39, 'data-transformation')\n",
      "(40, 'predictive-models')\n",
      "(41, 'matlab')\n",
      "(42, 'nonparametric')\n",
      "(43, 'interaction')\n",
      "(44, 'survival')\n",
      "(45, 'model-selection')\n",
      "(46, 'p-value')\n",
      "(47, 'linear-model')\n",
      "(48, 'dataset')\n",
      "(49, 'binomial')\n",
      "(50, 'poisson')\n",
      "(51, 'econometrics')\n",
      "(52, 'standard-deviation')\n",
      "(53, 'stata')\n",
      "(54, 'mean')\n",
      "(55, 'bootstrap')\n",
      "(56, 'feature-selection')\n",
      "(57, 'references')\n",
      "(58, 'sample-size')\n",
      "(59, 'interpretation')\n",
      "(60, 'multiple-comparisons')\n",
      "(61, 'optimization')\n",
      "(62, 'least-squares')\n",
      "(63, 'python')\n",
      "(64, 'conditional-probability')\n",
      "(65, 'random-forest')\n",
      "(66, 'experiment-design')\n",
      "(67, 'arima')\n",
      "(68, 'prediction')\n",
      "(69, 'panel-data')\n",
      "(70, 'standard-error')\n",
      "(71, 'survey')\n",
      "(72, 'factor-analysis')\n",
      "(73, 'covariance')\n",
      "(74, 'simulation')\n",
      "(75, 'missing-data')\n",
      "(76, 'sas')\n",
      "(77, 'random-variable')\n",
      "(78, 'outliers')\n",
      "(79, 'autocorrelation')\n",
      "(80, 'pdf')\n",
      "(81, 'mcmc')\n",
      "(82, 'ordinal')\n",
      "(83, 'multilevel-analysis')\n",
      "(84, 'inference')\n",
      "(85, 'residuals')\n",
      "(86, 'random-effects-model')\n",
      "(87, 'goodness-of-fit')\n",
      "(88, 'regression-coefficients')\n",
      "(89, 'expected-value')\n",
      "(90, 'algorithms')\n",
      "(91, 'cart')\n",
      "(92, 'lmer')\n",
      "(93, 'stochastic-processes')\n",
      "(94, 'model')\n",
      "(95, 'proportion')\n",
      "(96, 'heteroscedasticity')\n",
      "(97, 'nonlinear-regression')\n",
      "(98, 'error')\n",
      "(99, 'multinomial')\n"
     ]
    }
   ],
   "source": [
    "results = []\n",
    "for i, word in enumerate(tags_100_words):    \n",
    "\n",
    "    logreg = LogisticRegression(labelCol=word, predictionCol ='pred_' + word, probabilityCol='prob_' + word,\n",
    "                                maxIter=10, regParam=0.01)\n",
    "    model = logreg.fit(hashes)\n",
    "    print(i,word)\n",
    "    \n",
    "# Make predictions on test documents\n",
    "    prediction = model.transform(test_hashes)\n",
    "    selected = prediction.select(\"prob_\" + word).collect()\n",
    "    prob_list = [x[0][0] for x in selected]\n",
    "    results.append((word, prob_list))"
   ]
  },
  {
   "cell_type": "code",
   "execution_count": 114,
   "metadata": {
    "hidden": true
   },
   "outputs": [
    {
     "name": "stdout",
     "output_type": "stream",
     "text": [
      "==================\n",
      "Your score:  0.97\n",
      "==================\n"
     ]
    }
   ],
   "source": [
    "def classification():\n",
    "    return results #return [(\"repeated-measures\", [0.0] * 4649)] * 100\n",
    "\n",
    "grader.score(question_name='spark__classification', func=classification)"
   ]
  },
  {
   "cell_type": "markdown",
   "metadata": {
    "hidden": true
   },
   "source": [
    "*Copyright &copy; 2016 The Data Incubator.  All rights reserved.*"
   ]
  }
 ],
 "metadata": {
  "kernelspec": {
   "display_name": "Python 2",
   "language": "python",
   "name": "python2"
  },
  "language_info": {
   "codemirror_mode": {
    "name": "ipython",
    "version": 2
   },
   "file_extension": ".py",
   "mimetype": "text/x-python",
   "name": "python",
   "nbconvert_exporter": "python",
   "pygments_lexer": "ipython2",
   "version": "2.7.14"
  },
  "nbclean": true
 },
 "nbformat": 4,
 "nbformat_minor": 1
}
